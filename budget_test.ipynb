{
 "cells": [
  {
   "cell_type": "code",
   "execution_count": 1,
   "metadata": {},
   "outputs": [],
   "source": [
    "# Import OS and CSV Tools\n",
    "import os\n",
    "import csv"
   ]
  },
  {
   "cell_type": "code",
   "execution_count": 2,
   "metadata": {},
   "outputs": [],
   "source": [
    "# Open File Path\n",
    "filepath = os.path.join(\"Resources\", \"budget_data.csv\")"
   ]
  },
  {
   "cell_type": "code",
   "execution_count": 3,
   "metadata": {},
   "outputs": [],
   "source": [
    "## TOTAL MONTHS:\n",
    "# create a dictionary\n",
    "d = {}\n",
    "change = {}\n",
    "past_month = 0\n",
    "cur_month = 0\n",
    "diff = 0"
   ]
  },
  {
   "cell_type": "code",
   "execution_count": 4,
   "metadata": {},
   "outputs": [
    {
     "name": "stdout",
     "output_type": "stream",
     "text": [
      "Financial Analysis\n",
      "-----------------------\n"
     ]
    }
   ],
   "source": [
    "# print the title\n",
    "print(\"Financial Analysis\")\n",
    "print(\"-----------------------\")"
   ]
  },
  {
   "cell_type": "code",
   "execution_count": 5,
   "metadata": {},
   "outputs": [],
   "source": [
    "# Import CSV - Loop through csv - create a dict pair for each row\n",
    "with open(filepath, \"r\", newline=\"\") as csvfile:\n",
    "    csvreader = csv.reader(csvfile, delimiter=\",\")\n",
    "    next(csvreader, None)\n",
    "    for row in csvreader:\n",
    "        d.update({row[0]:int(row[1])})\n",
    "        cur_month = int(row[1])\n",
    "        if past_month == 0:\n",
    "            change.update({row[0]:int(0)})\n",
    "        else:\n",
    "            diff = cur_month - past_month\n",
    "            change.update({row[0]:diff})\n",
    "        past_month = int(row[1])"
   ]
  },
  {
   "cell_type": "code",
   "execution_count": 6,
   "metadata": {},
   "outputs": [
    {
     "name": "stdout",
     "output_type": "stream",
     "text": [
      "Total Months: 86\n"
     ]
    }
   ],
   "source": [
    "# for the total, count the number of entries in the dictionary\n",
    "print(\"Total Months: \" + str(len(d)))"
   ]
  },
  {
   "cell_type": "code",
   "execution_count": 7,
   "metadata": {},
   "outputs": [],
   "source": [
    "## TOTAL\n",
    "total = 0\n",
    "with open(filepath, \"r\", newline=\"\") as csvfile:\n",
    "    csvreader = csv.reader(csvfile, delimiter=\",\")\n",
    "    next(csvreader, None)\n",
    "    for row in csvreader:\n",
    "        total += int(row[1])"
   ]
  },
  {
   "cell_type": "code",
   "execution_count": 8,
   "metadata": {},
   "outputs": [
    {
     "name": "stdout",
     "output_type": "stream",
     "text": [
      "Total: $38382578\n"
     ]
    }
   ],
   "source": [
    "print(\"Total: $\" + str(total))"
   ]
  },
  {
   "cell_type": "code",
   "execution_count": 9,
   "metadata": {},
   "outputs": [
    {
     "name": "stdout",
     "output_type": "stream",
     "text": [
      "Average Change: $-2315.12\n"
     ]
    }
   ],
   "source": [
    "## AVERAGE CHANGE\n",
    "avg_total = 0\n",
    "for key, value in change.items():\n",
    "    avg_total += value\n",
    "print(\"Average Change: $\" + str(round(avg_total/85, 2)))"
   ]
  },
  {
   "cell_type": "code",
   "execution_count": 10,
   "metadata": {},
   "outputs": [
    {
     "name": "stdout",
     "output_type": "stream",
     "text": [
      "Greatest Increase in Profits: Feb-12 ($1926159)\n",
      "Greatest Decrease in Profits: Sep-13 ($-2196167)\n"
     ]
    }
   ],
   "source": [
    "## GREATEST INCREASE\n",
    "maxvalue = max(change.values())\n",
    "for m in change.keys(): \n",
    "    if change[m] == maxvalue:\n",
    "        print (\"Greatest Increase in Profits: \" + m + \" ($\" + str(change[m]) +\")\")\n",
    "\n",
    "minvalue = min(change.values())\n",
    "for k in change.keys(): \n",
    "    if change[k] == minvalue:\n",
    "        print (\"Greatest Decrease in Profits: \" + k + \" ($\" + str(change[k]) +\")\")"
   ]
  }
 ],
 "metadata": {
  "kernelspec": {
   "display_name": "Python 3",
   "language": "python",
   "name": "python3"
  },
  "language_info": {
   "codemirror_mode": {
    "name": "ipython",
    "version": 3
   },
   "file_extension": ".py",
   "mimetype": "text/x-python",
   "name": "python",
   "nbconvert_exporter": "python",
   "pygments_lexer": "ipython3",
   "version": "3.6.5"
  }
 },
 "nbformat": 4,
 "nbformat_minor": 2
}
