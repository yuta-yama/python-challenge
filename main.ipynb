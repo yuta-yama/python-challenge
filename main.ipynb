{
 "cells": [
  {
   "cell_type": "code",
   "execution_count": 1,
   "metadata": {},
   "outputs": [],
   "source": [
    "# Import OS and CSV Tools\n",
    "import os\n",
    "import csv"
   ]
  },
  {
   "cell_type": "code",
   "execution_count": 2,
   "metadata": {},
   "outputs": [],
   "source": [
    "# Open File Path\n",
    "filepath = os.path.join(\"Resources\", \"budget_data.csv\")"
   ]
  },
  {
   "cell_type": "code",
   "execution_count": 3,
   "metadata": {},
   "outputs": [],
   "source": [
    "## TOTAL MONTHS:\n",
    "# create a dictionary\n",
    "d = {}\n",
    "change = {}\n",
    "past_month = 0\n",
    "cur_month = 0\n",
    "diff = 0\n"
   ]
  },
  {
   "cell_type": "code",
   "execution_count": 4,
   "metadata": {},
   "outputs": [
    {
     "name": "stdout",
     "output_type": "stream",
     "text": [
      "Financial Analysis\n",
      "-----------------------\n"
     ]
    }
   ],
   "source": [
    "# print the title\n",
    "print(\"Financial Analysis\")\n",
    "print(\"-----------------------\")"
   ]
  },
  {
   "cell_type": "code",
   "execution_count": 5,
   "metadata": {},
   "outputs": [],
   "source": [
    "# Import CSV - Loop through csv - create a dict pair for each row\n",
    "with open(filepath, \"r\", newline=\"\") as csvfile:\n",
    "    csvreader = csv.reader(csvfile, delimiter=\",\")\n",
    "    next(csvreader, None)\n",
    "    for row in csvreader:\n",
    "        d.update({row[0]:int(row[1])})\n",
    "        cur_month = int(row[1])\n",
    "        diff = cur_month - past_month\n",
    "        past_month = int(row[1])\n",
    "        change.update({row[0]:diff})"
   ]
  },
  {
   "cell_type": "code",
   "execution_count": 6,
   "metadata": {},
   "outputs": [
    {
     "name": "stdout",
     "output_type": "stream",
     "text": [
      "{'Oct-12': 1154293, 'Nov-12': 885773, 'Dec-12': -448704, 'Jan-13': 563679, 'Feb-13': 555394, 'Mar-13': 631974, 'Apr-13': 957395, 'May-13': 1104047, 'Jun-13': 693464, 'Jul-13': 454932, 'Aug-13': 727272, 'Sep-13': 125016, 'Oct-13': 339251, 'Nov-13': 78523, 'Dec-13': 977084, 'Jan-14': 1158718, 'Feb-14': 332681, 'Mar-14': -341227, 'Apr-14': 173826, 'May-14': 742611, 'Jun-14': 1189806, 'Jul-14': 607363, 'Aug-14': -1172384, 'Sep-14': 587993, 'Oct-14': 295198, 'Nov-14': -300390, 'Dec-14': 468995, 'Jan-15': 698452, 'Feb-15': 967828, 'Mar-15': -454873, 'Apr-15': 375723, 'May-15': 1140526, 'Jun-15': 83836, 'Jul-15': 413189, 'Aug-15': 551363, 'Sep-15': 1195111, 'Oct-15': 657081, 'Nov-15': 66659, 'Dec-15': 803301, 'Jan-16': -953301, 'Feb-16': 883934}\n"
     ]
    }
   ],
   "source": [
    "print(d)"
   ]
  },
  {
   "cell_type": "code",
   "execution_count": 7,
   "metadata": {},
   "outputs": [
    {
     "name": "stdout",
     "output_type": "stream",
     "text": [
      "{'Oct-12': 1154293, 'Nov-12': -268520, 'Dec-12': -1334477, 'Jan-13': 1012383, 'Feb-13': -8285, 'Mar-13': 76580, 'Apr-13': 325421, 'May-13': 146652, 'Jun-13': -410583, 'Jul-13': -238532, 'Aug-13': 272340, 'Sep-13': -602256, 'Oct-13': 214235, 'Nov-13': -260728, 'Dec-13': 898561, 'Jan-14': 181634, 'Feb-14': -826037, 'Mar-14': -673908, 'Apr-14': 515053, 'May-14': 568785, 'Jun-14': 447195, 'Jul-14': -582443, 'Aug-14': -1779747, 'Sep-14': 1760377, 'Oct-14': -292795, 'Nov-14': -595588, 'Dec-14': 769385, 'Jan-15': 229457, 'Feb-15': 269376, 'Mar-15': -1422701, 'Apr-15': 830596, 'May-15': 764803, 'Jun-15': -1056690, 'Jul-15': 329353, 'Aug-15': 138174, 'Sep-15': 643748, 'Oct-15': -538030, 'Nov-15': -590422, 'Dec-15': 736642, 'Jan-16': -1756602, 'Feb-16': 1837235}\n"
     ]
    }
   ],
   "source": [
    "print(change)"
   ]
  },
  {
   "cell_type": "code",
   "execution_count": 9,
   "metadata": {},
   "outputs": [
    {
     "name": "stdout",
     "output_type": "stream",
     "text": [
      "Total Months: 41\n"
     ]
    }
   ],
   "source": [
    "# for the total, count the number of entries in the dictionary\n",
    "print(\"Total Months: \" + str(len(d)))"
   ]
  },
  {
   "cell_type": "code",
   "execution_count": 13,
   "metadata": {},
   "outputs": [],
   "source": [
    "## TOTAL\n",
    "total = 0\n",
    "with open(filepath, \"r\", newline=\"\") as csvfile:\n",
    "    csvreader = csv.reader(csvfile, delimiter=\",\")\n",
    "    next(csvreader, None)\n",
    "    for row in csvreader:\n",
    "        total += int(row[1])"
   ]
  },
  {
   "cell_type": "code",
   "execution_count": 15,
   "metadata": {},
   "outputs": [
    {
     "name": "stdout",
     "output_type": "stream",
     "text": [
      "Total: $18971412\n"
     ]
    }
   ],
   "source": [
    "print(\"Total: $\" + str(total))"
   ]
  },
  {
   "cell_type": "code",
   "execution_count": 18,
   "metadata": {},
   "outputs": [
    {
     "data": {
      "text/plain": [
       "0.0"
      ]
     },
     "execution_count": 18,
     "metadata": {},
     "output_type": "execute_result"
    }
   ],
   "source": [
    "## AVERAGE CHANGE\n",
    "sum(change.values()) / float(len(change))"
   ]
  },
  {
   "cell_type": "code",
   "execution_count": 19,
   "metadata": {},
   "outputs": [
    {
     "name": "stdout",
     "output_type": "stream",
     "text": [
      "Oct-12 :  1154293\n",
      "Nov-12 :  885773\n",
      "Dec-12 :  -448704\n",
      "Jan-13 :  563679\n",
      "Feb-13 :  555394\n",
      "Mar-13 :  631974\n",
      "Apr-13 :  957395\n",
      "May-13 :  1104047\n",
      "Jun-13 :  693464\n",
      "Jul-13 :  454932\n",
      "Aug-13 :  727272\n",
      "Sep-13 :  125016\n",
      "Oct-13 :  339251\n",
      "Nov-13 :  78523\n",
      "Dec-13 :  977084\n",
      "Jan-14 :  1158718\n",
      "Feb-14 :  332681\n",
      "Mar-14 :  -341227\n",
      "Apr-14 :  173826\n",
      "May-14 :  742611\n",
      "Jun-14 :  1189806\n",
      "Jul-14 :  607363\n",
      "Aug-14 :  -1172384\n",
      "Sep-14 :  587993\n",
      "Oct-14 :  295198\n",
      "Nov-14 :  -300390\n",
      "Dec-14 :  468995\n",
      "Jan-15 :  698452\n",
      "Feb-15 :  967828\n",
      "Mar-15 :  -454873\n",
      "Apr-15 :  375723\n",
      "May-15 :  1140526\n",
      "Jun-15 :  83836\n",
      "Jul-15 :  413189\n",
      "Aug-15 :  551363\n",
      "Sep-15 :  1195111\n",
      "Oct-15 :  657081\n",
      "Nov-15 :  66659\n",
      "Dec-15 :  803301\n",
      "Jan-16 :  -953301\n",
      "Feb-16 :  883934\n"
     ]
    }
   ],
   "source": [
    "for key, value in d.items():\n",
    "    print(key, \": \", value)"
   ]
  },
  {
   "cell_type": "code",
   "execution_count": 16,
   "metadata": {},
   "outputs": [
    {
     "name": "stdout",
     "output_type": "stream",
     "text": [
      "x corresponds to 1\n",
      "y corresponds to 2\n",
      "z corresponds to 3\n"
     ]
    }
   ],
   "source": [
    "d = {'x': 1, 'y': 2, 'z': 3} \n",
    "for the_key, the_value in d.items():\n",
    "    print(the_key, 'corresponds to', the_value)"
   ]
  },
  {
   "cell_type": "code",
   "execution_count": null,
   "metadata": {},
   "outputs": [],
   "source": []
  }
 ],
 "metadata": {
  "kernelspec": {
   "display_name": "Python 3",
   "language": "python",
   "name": "python3"
  },
  "language_info": {
   "codemirror_mode": {
    "name": "ipython",
    "version": 3
   },
   "file_extension": ".py",
   "mimetype": "text/x-python",
   "name": "python",
   "nbconvert_exporter": "python",
   "pygments_lexer": "ipython3",
   "version": "3.6.5"
  }
 },
 "nbformat": 4,
 "nbformat_minor": 2
}
